{
 "cells": [
  {
   "cell_type": "markdown",
   "metadata": {},
   "source": [
    "## Data Pre-processing\n",
    "\n",
    "In this notebook, we will filter all datasets based on index date."
   ]
  },
  {
   "cell_type": "code",
   "execution_count": 1,
   "metadata": {
    "collapsed": true
   },
   "outputs": [],
   "source": [
    "import pandas as pd\n",
    "import random"
   ]
  },
  {
   "cell_type": "markdown",
   "metadata": {},
   "source": [
    "Get diagnosis date from Admissions Table"
   ]
  },
  {
   "cell_type": "code",
   "execution_count": 2,
   "metadata": {
    "collapsed": true
   },
   "outputs": [],
   "source": [
    "diagnosis = pd.read_csv('rawdata/DIAGNOSES_ICD.csv')\n",
    "diagnosis = diagnosis.dropna(subset=['ICD9_CODE'])\n",
    "admissions = pd.read_csv('rawdata/ADMISSIONS.csv')\n",
    "diag_merged_time = diagnosis.merge(admissions[['HADM_ID', 'ADMITTIME']])\n",
    "diag_merged_time['ADMITTIME'] = pd.to_datetime(diag_merged_time['ADMITTIME'])"
   ]
  },
  {
   "cell_type": "markdown",
   "metadata": {},
   "source": [
    "### Obtain index dates for case and control patients.\n",
    "We define case patients as patients with an ICD9 code that starts with '428'\n",
    "\n",
    "Index date for case patient is the first date when they are diagnosed with a '428.x' ICD9 code.\n",
    "Index date for control patient is the last date of diagnosis record."
   ]
  },
  {
   "cell_type": "code",
   "execution_count": 3,
   "metadata": {
    "collapsed": true
   },
   "outputs": [],
   "source": [
    "# Set of case patient ID\n",
    "case_set = set(diagnosis[diagnosis['ICD9_CODE'].str.startswith('428').astype(bool)]['SUBJECT_ID'])"
   ]
  },
  {
   "cell_type": "code",
   "execution_count": 4,
   "metadata": {
    "collapsed": true
   },
   "outputs": [],
   "source": [
    "# Case patients' index date\n",
    "diag_time_case = diag_merged_time[diag_merged_time['ICD9_CODE'].str.startswith('428')]\n",
    "case_index_date = diag_time_case[['SUBJECT_ID', 'ADMITTIME']].groupby('SUBJECT_ID', as_index=False).agg({'ADMITTIME': 'min'})\n",
    "case_index_date.rename(columns={'ADMITTIME':'INDEXDATE'}, inplace=True)"
   ]
  },
  {
   "cell_type": "code",
   "execution_count": 5,
   "metadata": {
    "collapsed": true
   },
   "outputs": [],
   "source": [
    "# Control patients' index date\n",
    "diag_time_control = diag_merged_time[~diag_merged_time['SUBJECT_ID'].isin(case_set)]\n",
    "control_index_date = diag_time_control[['SUBJECT_ID', 'ADMITTIME']].groupby('SUBJECT_ID', as_index=False).agg({'ADMITTIME': 'max'})\n",
    "control_index_date.rename(columns={'ADMITTIME':'INDEXDATE'}, inplace=True)"
   ]
  },
  {
   "cell_type": "code",
   "execution_count": 6,
   "metadata": {
    "collapsed": true
   },
   "outputs": [],
   "source": [
    "# Full data for index dates\n",
    "all_index_date = pd.concat([case_index_date, control_index_date], ignore_index=True)"
   ]
  },
  {
   "cell_type": "markdown",
   "metadata": {},
   "source": [
    "### Note Events data"
   ]
  },
  {
   "cell_type": "code",
   "execution_count": 7,
   "metadata": {},
   "outputs": [
    {
     "name": "stderr",
     "output_type": "stream",
     "text": [
      "C:\\Users\\Keith\\Miniconda3\\lib\\site-packages\\IPython\\core\\interactiveshell.py:2698: DtypeWarning: Columns (4,5) have mixed types. Specify dtype option on import or set low_memory=False.\n",
      "  interactivity=interactivity, compiler=compiler, result=result)\n"
     ]
    }
   ],
   "source": [
    "noteevents = pd.read_csv('rawdata/NOTEEVENTS.csv')"
   ]
  },
  {
   "cell_type": "code",
   "execution_count": 8,
   "metadata": {
    "collapsed": true
   },
   "outputs": [],
   "source": [
    "# Split notes into case and control datasets\n",
    "noteevents_case = noteevents[noteevents['SUBJECT_ID'].isin(case_set)]\n",
    "noteevents_control = noteevents[~noteevents['SUBJECT_ID'].isin(case_set)]"
   ]
  },
  {
   "cell_type": "code",
   "execution_count": 9,
   "metadata": {
    "collapsed": true
   },
   "outputs": [],
   "source": [
    "# Merge notes with respective index dates\n",
    "note_case_indexdate = noteevents_case.merge(case_index_date, how='left')\n",
    "note_control_indexdate = noteevents_control.merge(control_index_date, how='left')\n",
    "note_control_indexdate = note_control_indexdate[~note_control_indexdate.INDEXDATE.isnull()] # Remove notes without index date"
   ]
  },
  {
   "cell_type": "code",
   "execution_count": 39,
   "metadata": {
    "collapsed": true
   },
   "outputs": [],
   "source": [
    "# Filter notes, remove notes outside observation window\n",
    "note_case_indexdate['CHARTDATE'] = pd.to_datetime(note_case_indexdate['CHARTDATE'])\n",
    "note_control_indexdate['CHARTDATE'] = pd.to_datetime(note_control_indexdate['CHARTDATE'])\n",
    "\n",
    "filter_note_case = note_case_indexdate[note_case_indexdate.CHARTDATE < note_case_indexdate.INDEXDATE - pd.Timedelta(days=10)]\n",
    "filter_note_control = note_control_indexdate[note_control_indexdate.CHARTDATE < note_control_indexdate.INDEXDATE - pd.Timedelta(days=10)]"
   ]
  },
  {
   "cell_type": "code",
   "execution_count": 11,
   "metadata": {},
   "outputs": [
    {
     "name": "stdout",
     "output_type": "stream",
     "text": [
      "Number of patients in case:  2909\n",
      "Number of notes in case:  70927\n",
      "Number of patients in control:  7832\n",
      "Number of notes in control:  226664\n"
     ]
    }
   ],
   "source": [
    "print(\"Number of patients in case: \", len(set(filter_note_case.SUBJECT_ID)))\n",
    "print(\"Number of notes in case: \", len(filter_note_case))\n",
    "print(\"Number of patients in control: \", len(set(filter_note_control.SUBJECT_ID)))\n",
    "print(\"Number of notes in control: \", len(filter_note_control))"
   ]
  },
  {
   "cell_type": "markdown",
   "metadata": {},
   "source": [
    "We see that the ratio for case-control patients is slightly skewed, thus we will randomly drop some control patients in order to achieve a 40-60 ratio for case-control patients"
   ]
  },
  {
   "cell_type": "code",
   "execution_count": 12,
   "metadata": {
    "collapsed": true
   },
   "outputs": [],
   "source": [
    "# We will drop control patients in order to get 4364 control patients for our final dataset\n",
    "num_control_patients = round(2909 / 4 * 6)"
   ]
  },
  {
   "cell_type": "code",
   "execution_count": 13,
   "metadata": {
    "collapsed": true
   },
   "outputs": [],
   "source": [
    "# Set of patient_id for case and control events\n",
    "noteevents_case_id_set = set(filter_note_case['SUBJECT_ID'])\n",
    "noteevents_control_id_set = set(filter_note_control['SUBJECT_ID'])"
   ]
  },
  {
   "cell_type": "code",
   "execution_count": 14,
   "metadata": {
    "collapsed": true
   },
   "outputs": [],
   "source": [
    "# Get 4364 control patient_id\n",
    "random.seed(1)\n",
    "control_id_subset = random.sample(noteevents_control_id_set, num_control_patients)"
   ]
  },
  {
   "cell_type": "code",
   "execution_count": 40,
   "metadata": {
    "collapsed": true
   },
   "outputs": [],
   "source": [
    "# Cut down number of control patients and notes\n",
    "filter_note_control_subset = filter_note_control[filter_note_control.SUBJECT_ID.isin(control_id_subset)]"
   ]
  },
  {
   "cell_type": "code",
   "execution_count": 16,
   "metadata": {},
   "outputs": [
    {
     "name": "stdout",
     "output_type": "stream",
     "text": [
      "Number of patients in case:  2909\n",
      "Number of notes in case:  70927\n",
      "Number of patients in control:  4364\n",
      "Number of notes in control:  125499\n"
     ]
    }
   ],
   "source": [
    "print(\"Number of patients in case: \", len(set(filter_note_case.SUBJECT_ID)))\n",
    "print(\"Number of notes in case: \", len(filter_note_case))\n",
    "print(\"Number of patients in control: \", len(set(filter_note_control_subset.SUBJECT_ID)))\n",
    "print(\"Number of notes in control: \", len(filter_note_control_subset))"
   ]
  },
  {
   "cell_type": "markdown",
   "metadata": {},
   "source": [
    "### Patient IDs\n",
    "\n",
    "Since our main data of interest is text data, we will get the list of case and control patient IDs off noteevents table. We will also filter the other datasets based on this list of patient IDs in Spark"
   ]
  },
  {
   "cell_type": "code",
   "execution_count": 17,
   "metadata": {
    "collapsed": true
   },
   "outputs": [],
   "source": [
    "case_id = noteevents_case_id_set # 2909 case\n",
    "control_id = set(control_id_subset) # 4364 control\n",
    "all_id = case_id|control_id # total 7273 patients"
   ]
  },
  {
   "cell_type": "markdown",
   "metadata": {},
   "source": [
    "### Filter datasets based on index dates\n",
    "\n",
    "We define our observation window as all data up till 10 days before index date.\n",
    "\n",
    "We will filter out data outside our observation window for prescriptions, lab, procedures, and noteevents dataset."
   ]
  },
  {
   "cell_type": "code",
   "execution_count": 18,
   "metadata": {
    "scrolled": false
   },
   "outputs": [
    {
     "name": "stderr",
     "output_type": "stream",
     "text": [
      "C:\\Users\\Keith\\Miniconda3\\lib\\site-packages\\IPython\\core\\interactiveshell.py:2698: DtypeWarning: Columns (11) have mixed types. Specify dtype option on import or set low_memory=False.\n",
      "  interactivity=interactivity, compiler=compiler, result=result)\n",
      "C:\\Users\\Keith\\Miniconda3\\lib\\site-packages\\IPython\\core\\interactiveshell.py:2698: DtypeWarning: Columns (4,5,7,11) have mixed types. Specify dtype option on import or set low_memory=False.\n",
      "  interactivity=interactivity, compiler=compiler, result=result)\n"
     ]
    }
   ],
   "source": [
    "# Load all relevant datasets to filter\n",
    "prescriptions = pd.read_csv('rawdata/PRESCRIPTIONS.csv')\n",
    "lab = pd.read_csv('rawdata/LABEVENTS.csv')\n",
    "procedures = pd.read_csv('rawdata/CPTEVENTS.csv')"
   ]
  },
  {
   "cell_type": "code",
   "execution_count": 21,
   "metadata": {
    "collapsed": true
   },
   "outputs": [],
   "source": [
    "# Filter diagnosis\n",
    "diag_indx = diag_merged_time.merge(all_index_date)\n",
    "filter_diag = diag_indx[diag_indx.ADMITTIME < (diag_indx.INDEXDATE - pd.Timedelta(days=10))]"
   ]
  },
  {
   "cell_type": "code",
   "execution_count": 23,
   "metadata": {
    "collapsed": true
   },
   "outputs": [],
   "source": [
    "# Filter prescriptions\n",
    "prescriptions['STARTDATE'] = pd.to_datetime(prescriptions['STARTDATE'])\n",
    "prescriptions_indx = prescriptions.merge(all_index_date)\n",
    "filter_presc = prescriptions_indx[prescriptions_indx.STARTDATE < (prescriptions_indx.INDEXDATE - pd.Timedelta(days=10))]"
   ]
  },
  {
   "cell_type": "code",
   "execution_count": 24,
   "metadata": {
    "collapsed": true
   },
   "outputs": [],
   "source": [
    "# Filter lab\n",
    "lab['CHARTTIME'] = pd.to_datetime(lab['CHARTTIME'])\n",
    "lab_indx = lab.merge(all_index_date)\n",
    "filter_lab = lab_indx[lab_indx.CHARTTIME < (lab_indx.INDEXDATE - pd.Timedelta(days=10))]"
   ]
  },
  {
   "cell_type": "code",
   "execution_count": 25,
   "metadata": {
    "collapsed": true
   },
   "outputs": [],
   "source": [
    "# Filter procedures\n",
    "proc_merged_time = procedures.merge(admissions[['HADM_ID', 'ADMITTIME']])\n",
    "proc_merged_time['ADMITTIME'] = pd.to_datetime(diag_merged_time['ADMITTIME'])\n",
    "proc_indx = proc_merged_time.merge(all_index_date)\n",
    "filter_proc = proc_indx[proc_indx.ADMITTIME < (proc_indx.INDEXDATE - pd.Timedelta(days=10))]"
   ]
  },
  {
   "cell_type": "code",
   "execution_count": null,
   "metadata": {
    "collapsed": true
   },
   "outputs": [],
   "source": []
  },
  {
   "cell_type": "code",
   "execution_count": null,
   "metadata": {
    "collapsed": true
   },
   "outputs": [],
   "source": [
    "# Export notes\n",
    "filter_note_case.to_csv('3_code/data/case_notes.csv', index=False)\n",
    "filter_note_control_subset.to_csv('3_code/data/control_notes.csv', index=False)"
   ]
  },
  {
   "cell_type": "code",
   "execution_count": 29,
   "metadata": {
    "collapsed": true
   },
   "outputs": [],
   "source": [
    "# Export diagnosis, prescriptions, lab, and procedures in observation window\n",
    "filter_diag.to_csv('3_code/data/filter_diag.csv', index=False)\n",
    "filter_presc.to_csv('3_code/data/filter_presc.csv', index=False)\n",
    "filter_lab.to_csv('3_code/data/filter_lab.csv', index=False)\n",
    "filter_proc.to_csv('3_code/data/filter_proc.csv', index=False)"
   ]
  },
  {
   "cell_type": "code",
   "execution_count": null,
   "metadata": {
    "collapsed": true
   },
   "outputs": [],
   "source": []
  },
  {
   "cell_type": "code",
   "execution_count": 41,
   "metadata": {
    "collapsed": true
   },
   "outputs": [],
   "source": [
    "del filter_note_case['TEXT']\n",
    "del filter_note_control_subset['TEXT']\n",
    "\n",
    "# Export notes without text\n",
    "filter_note_case.to_csv('3_code/data/case_notes_no_text.csv', index=False)\n",
    "filter_note_control_subset.to_csv('3_code/data/control_notes_no_text.csv', index=False)"
   ]
  },
  {
   "cell_type": "code",
   "execution_count": null,
   "metadata": {
    "collapsed": true
   },
   "outputs": [],
   "source": []
  }
 ],
 "metadata": {
  "kernelspec": {
   "display_name": "Python 3",
   "language": "python",
   "name": "python3"
  },
  "language_info": {
   "codemirror_mode": {
    "name": "ipython",
    "version": 3
   },
   "file_extension": ".py",
   "mimetype": "text/x-python",
   "name": "python",
   "nbconvert_exporter": "python",
   "pygments_lexer": "ipython3",
   "version": "3.6.4"
  }
 },
 "nbformat": 4,
 "nbformat_minor": 2
}
